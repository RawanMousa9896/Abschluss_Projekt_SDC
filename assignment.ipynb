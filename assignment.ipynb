{
 "cells": [
  {
   "cell_type": "markdown",
   "metadata": {
    "vscode": {
     "languageId": "plaintext"
    }
   },
   "source": [
    "# Homework Assignment: Serving Models with Docker, TensorFlowServe, and TorchServe\n",
    "\n",
    "Today, you learned how to serve machine learning models using **TensorFlowServe**, **TorchServe**, and **Docker** (with **Docker Compose**). Your task now is to apply these concepts by creating a full application.\n",
    "\n",
    "## Task Overview:\n",
    "\n",
    "1. **Create a Docker Compose Setup**:\n",
    "   - Set up a `docker-compose.yml` file to serve a machine learning model using **TensorFlowServe** or **TorchServe**.\n",
    "   - The docker-compose should also boot a frontend/backend app\n",
    "   - You can use one of the models we worked with during the lab session, or feel free to choose a model of your own.\n",
    "\n",
    "2. **Build a Frontend, e.g. streamlit (and optionally a Backend)**:\n",
    "   - Create a simple frontend interface that allows users to upload an image.\n",
    "   - The frontend should interact with the served model to make predictions (i.e., run an inference) on the uploaded image.\n",
    "   - Optionally, you can build a backend to handle the communication between the frontend and the model server, though this is not mandatory.\n",
    "\n",
    "## Requirements:\n",
    "- **Model Serving**: You must serve a model using **TensorFlowServe** or **TorchServe**.\n",
    "- **Image Upload**: Your frontend should have functionality to upload an image.\n",
    "- **Inference**: After uploading the image, the application should run an inference on the image using the served model and display the prediction result.\n",
    "  \n",
    "## Bonus (Optional):\n",
    "- Integrate a backend to handle requests between the frontend and model server.\n",
    "- Customize the UI to make it more user-friendly.\n",
    "\n",
    "## Deliverables:\n",
    "- A working **Docker Compose** setup that serves the model, runs a frontend/backend and handles communication.\n",
    "- A frontend that can upload images and display inference results.\n",
    "- (Optional) A backend that connects the frontend to the model server.\n",
    "\n",
    "Please make sure to test your solution and include a README file explaining how to run your application.\n",
    "\n",
    "Good luck!"
   ]
  },
  {
   "cell_type": "code",
   "execution_count": 1,
   "metadata": {},
   "outputs": [
    {
     "name": "stdout",
     "output_type": "stream",
     "text": [
      "Requirement already satisfied: streamlit in /home/vscode/.local/lib/python3.9/site-packages (from -r requirements.txt (line 1)) (1.39.0)\n",
      "Requirement already satisfied: requests in /home/vscode/.local/lib/python3.9/site-packages (from -r requirements.txt (line 2)) (2.32.3)\n",
      "Requirement already satisfied: numpy in /home/vscode/.local/lib/python3.9/site-packages (from -r requirements.txt (line 3)) (1.23.5)\n",
      "Requirement already satisfied: pillow in /home/vscode/.local/lib/python3.9/site-packages (from -r requirements.txt (line 4)) (10.4.0)\n",
      "Requirement already satisfied: idna<4,>=2.5 in /home/vscode/.local/lib/python3.9/site-packages (from requests->-r requirements.txt (line 2)) (3.10)\n",
      "Requirement already satisfied: charset-normalizer<4,>=2 in /home/vscode/.local/lib/python3.9/site-packages (from requests->-r requirements.txt (line 2)) (3.4.0)\n",
      "Requirement already satisfied: urllib3<3,>=1.21.1 in /home/vscode/.local/lib/python3.9/site-packages (from requests->-r requirements.txt (line 2)) (2.2.3)\n",
      "Requirement already satisfied: certifi>=2017.4.17 in /home/vscode/.local/lib/python3.9/site-packages (from requests->-r requirements.txt (line 2)) (2024.8.30)\n",
      "Requirement already satisfied: cachetools<6,>=4.0 in /home/vscode/.local/lib/python3.9/site-packages (from streamlit->-r requirements.txt (line 1)) (5.5.0)\n",
      "Requirement already satisfied: typing-extensions<5,>=4.3.0 in /home/vscode/.local/lib/python3.9/site-packages (from streamlit->-r requirements.txt (line 1)) (4.12.2)\n",
      "Requirement already satisfied: altair<6,>=4.0 in /home/vscode/.local/lib/python3.9/site-packages (from streamlit->-r requirements.txt (line 1)) (5.4.1)\n",
      "Requirement already satisfied: toml<2,>=0.10.1 in /home/vscode/.local/lib/python3.9/site-packages (from streamlit->-r requirements.txt (line 1)) (0.10.2)\n",
      "Requirement already satisfied: packaging<25,>=20 in /home/vscode/.local/lib/python3.9/site-packages (from streamlit->-r requirements.txt (line 1)) (24.1)\n",
      "Requirement already satisfied: watchdog<6,>=2.1.5 in /home/vscode/.local/lib/python3.9/site-packages (from streamlit->-r requirements.txt (line 1)) (5.0.3)\n",
      "Requirement already satisfied: tenacity<10,>=8.1.0 in /home/vscode/.local/lib/python3.9/site-packages (from streamlit->-r requirements.txt (line 1)) (9.0.0)\n",
      "Requirement already satisfied: protobuf<6,>=3.20 in /home/vscode/.local/lib/python3.9/site-packages (from streamlit->-r requirements.txt (line 1)) (4.25.5)\n",
      "Requirement already satisfied: pyarrow>=7.0 in /home/vscode/.local/lib/python3.9/site-packages (from streamlit->-r requirements.txt (line 1)) (18.0.0)\n",
      "Requirement already satisfied: gitpython!=3.1.19,<4,>=3.0.7 in /home/vscode/.local/lib/python3.9/site-packages (from streamlit->-r requirements.txt (line 1)) (3.1.43)\n",
      "Requirement already satisfied: blinker<2,>=1.0.0 in /home/vscode/.local/lib/python3.9/site-packages (from streamlit->-r requirements.txt (line 1)) (1.8.2)\n",
      "Requirement already satisfied: rich<14,>=10.14.0 in /home/vscode/.local/lib/python3.9/site-packages (from streamlit->-r requirements.txt (line 1)) (13.9.4)\n",
      "Requirement already satisfied: pandas<3,>=1.4.0 in /home/vscode/.local/lib/python3.9/site-packages (from streamlit->-r requirements.txt (line 1)) (2.2.3)\n",
      "Requirement already satisfied: pydeck<1,>=0.8.0b4 in /home/vscode/.local/lib/python3.9/site-packages (from streamlit->-r requirements.txt (line 1)) (0.9.1)\n",
      "Requirement already satisfied: tornado<7,>=6.0.3 in /home/vscode/.local/lib/python3.9/site-packages (from streamlit->-r requirements.txt (line 1)) (6.4.1)\n",
      "Requirement already satisfied: click<9,>=7.0 in /home/vscode/.local/lib/python3.9/site-packages (from streamlit->-r requirements.txt (line 1)) (8.1.7)\n",
      "Requirement already satisfied: jsonschema>=3.0 in /home/vscode/.local/lib/python3.9/site-packages (from altair<6,>=4.0->streamlit->-r requirements.txt (line 1)) (4.23.0)\n",
      "Requirement already satisfied: jinja2 in /home/vscode/.local/lib/python3.9/site-packages (from altair<6,>=4.0->streamlit->-r requirements.txt (line 1)) (3.1.4)\n",
      "Requirement already satisfied: narwhals>=1.5.2 in /home/vscode/.local/lib/python3.9/site-packages (from altair<6,>=4.0->streamlit->-r requirements.txt (line 1)) (1.13.1)\n",
      "Requirement already satisfied: gitdb<5,>=4.0.1 in /home/vscode/.local/lib/python3.9/site-packages (from gitpython!=3.1.19,<4,>=3.0.7->streamlit->-r requirements.txt (line 1)) (4.0.11)\n",
      "Requirement already satisfied: smmap<6,>=3.0.1 in /home/vscode/.local/lib/python3.9/site-packages (from gitdb<5,>=4.0.1->gitpython!=3.1.19,<4,>=3.0.7->streamlit->-r requirements.txt (line 1)) (5.0.1)\n",
      "Requirement already satisfied: referencing>=0.28.4 in /home/vscode/.local/lib/python3.9/site-packages (from jsonschema>=3.0->altair<6,>=4.0->streamlit->-r requirements.txt (line 1)) (0.35.1)\n",
      "Requirement already satisfied: attrs>=22.2.0 in /home/vscode/.local/lib/python3.9/site-packages (from jsonschema>=3.0->altair<6,>=4.0->streamlit->-r requirements.txt (line 1)) (24.2.0)\n",
      "Requirement already satisfied: rpds-py>=0.7.1 in /home/vscode/.local/lib/python3.9/site-packages (from jsonschema>=3.0->altair<6,>=4.0->streamlit->-r requirements.txt (line 1)) (0.20.1)\n",
      "Requirement already satisfied: jsonschema-specifications>=2023.03.6 in /home/vscode/.local/lib/python3.9/site-packages (from jsonschema>=3.0->altair<6,>=4.0->streamlit->-r requirements.txt (line 1)) (2024.10.1)\n",
      "Requirement already satisfied: python-dateutil>=2.8.2 in /home/vscode/.local/lib/python3.9/site-packages (from pandas<3,>=1.4.0->streamlit->-r requirements.txt (line 1)) (2.9.0.post0)\n",
      "Requirement already satisfied: pytz>=2020.1 in /home/vscode/.local/lib/python3.9/site-packages (from pandas<3,>=1.4.0->streamlit->-r requirements.txt (line 1)) (2024.2)\n",
      "Requirement already satisfied: tzdata>=2022.7 in /home/vscode/.local/lib/python3.9/site-packages (from pandas<3,>=1.4.0->streamlit->-r requirements.txt (line 1)) (2024.2)\n",
      "Requirement already satisfied: MarkupSafe>=2.0 in /home/vscode/.local/lib/python3.9/site-packages (from jinja2->altair<6,>=4.0->streamlit->-r requirements.txt (line 1)) (3.0.2)\n",
      "Requirement already satisfied: six>=1.5 in /home/vscode/.local/lib/python3.9/site-packages (from python-dateutil>=2.8.2->pandas<3,>=1.4.0->streamlit->-r requirements.txt (line 1)) (1.16.0)\n",
      "Requirement already satisfied: pygments<3.0.0,>=2.13.0 in /home/vscode/.local/lib/python3.9/site-packages (from rich<14,>=10.14.0->streamlit->-r requirements.txt (line 1)) (2.18.0)\n",
      "Requirement already satisfied: markdown-it-py>=2.2.0 in /home/vscode/.local/lib/python3.9/site-packages (from rich<14,>=10.14.0->streamlit->-r requirements.txt (line 1)) (3.0.0)\n",
      "Requirement already satisfied: mdurl~=0.1 in /home/vscode/.local/lib/python3.9/site-packages (from markdown-it-py>=2.2.0->rich<14,>=10.14.0->streamlit->-r requirements.txt (line 1)) (0.1.2)\n"
     ]
    }
   ],
   "source": [
    "!pip install -r requirements.txt"
   ]
  }
 ],
 "metadata": {
  "kernelspec": {
   "display_name": "Python 3",
   "language": "python",
   "name": "python3"
  },
  "language_info": {
   "codemirror_mode": {
    "name": "ipython",
    "version": 3
   },
   "file_extension": ".py",
   "mimetype": "text/x-python",
   "name": "python",
   "nbconvert_exporter": "python",
   "pygments_lexer": "ipython3",
   "version": "3.9.2"
  }
 },
 "nbformat": 4,
 "nbformat_minor": 4
}
